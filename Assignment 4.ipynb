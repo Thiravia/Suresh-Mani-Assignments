{
 "cells": [
  {
   "cell_type": "code",
   "execution_count": 1,
   "metadata": {},
   "outputs": [],
   "source": [
    "#Assignment 4\n",
    "1. Empty list,the list contains no values\n",
    "2.spam.insert(2,'hello')\n",
    "3. 6\n",
    "4. 'd'\n",
    "5. [2, 4]\n",
    "6. 1\n",
    "7. [3.14, 'cat', 11, 'cat', True, 99]\n",
    "8. [3.14, 11, 'cat', True, 99]\n",
    "9. for concatination is '+' and for replication is '*'\n",
    "10. append usually append the input or value at the end of the list and insert can isert the input oe value in a particular index\n",
    "11. pop and remove\n",
    "12. both are sequences\n",
    "13. tuples are immutable whereas list are mutable\n",
    "14. (42,)\n",
    "15. by using type conversion\n",
    "16. str\n",
    "17. copy.copy() creates a new copy by changing the original one where copy.deepcopy() creates a new copy without changing the original one"
   ]
  }
 ],
 "metadata": {
  "kernelspec": {
   "display_name": "Python 3",
   "language": "python",
   "name": "python3"
  },
  "language_info": {
   "codemirror_mode": {
    "name": "ipython",
    "version": 3
   },
   "file_extension": ".py",
   "mimetype": "text/x-python",
   "name": "python",
   "nbconvert_exporter": "python",
   "pygments_lexer": "ipython3",
   "version": "3.7.4"
  }
 },
 "nbformat": 4,
 "nbformat_minor": 2
}

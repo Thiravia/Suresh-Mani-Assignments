{
 "cells": [
  {
   "cell_type": "code",
   "execution_count": null,
   "metadata": {},
   "outputs": [],
   "source": [
    "#Assignment 3\n",
    "\n",
    "1.In order to type the same program repeatedly we can use functions to call it\n",
    "2. When it is called the function starts execute itself\n",
    "3. Def is used to create a function\n",
    "4. Function is used to reduce the repeated typing of a program\n",
    "function call is to call the defined function\n",
    "5. 1 global and 1 local scopes are there in a function\n",
    "6. local variable destroyed when the function returns or the local variable disappears when the function is called\n",
    "7. return fuction is used end the execution of the program and returns its result\n",
    "expression can be used at the end return statement otherwise none statement will be returned\n",
    "8. if a function doesn't have a return statement it will return a none value\n",
    "9. if we have to refer a global variable in a function first have to declare a global keyword which refer global variable\n",
    "10.None is a keyword used to define null value and its a datatype of its own\n",
    "11. it will import areallyourpetsnamederic module\n",
    "12.spam.bacon()\n",
    "13. try running the program in try and except block instead of crashing a program it will throw an error\n",
    "14. try block is used to try a code with error and except block is used to handle the error"
   ]
  }
 ],
 "metadata": {
  "kernelspec": {
   "display_name": "Python 3",
   "language": "python",
   "name": "python3"
  },
  "language_info": {
   "codemirror_mode": {
    "name": "ipython",
    "version": 3
   },
   "file_extension": ".py",
   "mimetype": "text/x-python",
   "name": "python",
   "nbconvert_exporter": "python",
   "pygments_lexer": "ipython3",
   "version": "3.7.4"
  }
 },
 "nbformat": 4,
 "nbformat_minor": 2
}

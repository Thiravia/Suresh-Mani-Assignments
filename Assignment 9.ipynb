{
 "cells": [
  {
   "cell_type": "code",
   "execution_count": null,
   "metadata": {},
   "outputs": [],
   "source": [
    "#Assignment 9\n",
    "\n",
    "1.refers to a location that is relative to a current directory\n",
    "2.starting from a root element\n",
    "3.\n",
    "getcwd()-This function allows you to see what your current working directory is.\n",
    "chdir()-this function allows you to set the current working directory to a path of your choice\n",
    "4.The . is the current directory, where .. signifies the parent directory.\n",
    "5.C:\\bacon\\eggs is the dir name, while spam. txt is the base name.\n",
    "6.r,rb and r+\n",
    "7.If a file with the same name already exists, its contents are discarded and the file is treated as a new empty file\n",
    "8.read()-will read the whole file whereas readline() -will read the first character\n",
    "9.A shelf value resembles a dictionary value; it has keys and values"
   ]
  }
 ],
 "metadata": {
  "kernelspec": {
   "display_name": "Python 3",
   "language": "python",
   "name": "python3"
  },
  "language_info": {
   "codemirror_mode": {
    "name": "ipython",
    "version": 3
   },
   "file_extension": ".py",
   "mimetype": "text/x-python",
   "name": "python",
   "nbconvert_exporter": "python",
   "pygments_lexer": "ipython3",
   "version": "3.7.4"
  }
 },
 "nbformat": 4,
 "nbformat_minor": 2
}

{
 "cells": [
  {
   "cell_type": "code",
   "execution_count": null,
   "metadata": {},
   "outputs": [],
   "source": [
    "#Assignment 6\n",
    "\n",
    "1. '\\'backslash\n",
    "2. \\n is used for newline and \\t is for newtab\n",
    "3. with two backslashes or use the @ verbatim string\n",
    "4. the single quote in howl's wont make an issue because we have used double quotes in start and end of the string\n",
    "5. printing something in a new line\n",
    "6.\n",
    "'Hello,world!'[1] = 'e'\n",
    "'Hello,world!'[0:5] = 'Hello'\n",
    "'Hello,world!'[:5] = 'Hello'\n",
    "'Hello,world!'[3:] = 'lo,world!'\n",
    "7.\n",
    "'Hello'.upper() = 'HELLO'\n",
    "'Hello'.upper().isupper() = 'True'\n",
    "'Hello'.upper().lower() = 'hello'\n",
    "8.\n",
    "['Remember,', 'remember,', 'the', 'fifth', 'of', 'July.']\n",
    "'There-can-only-one.'\n",
    "9.\n",
    "s = \"suresh\"\n",
    "s.ljust(12,'@')\n",
    "'suresh@@@@@@'\n",
    "s = \"suresh\"\n",
    "s.rjust(12,'@')\n",
    "'suresh@@@@@@'\n",
    "s.center(12,'@')\n",
    "'@@@suresh@@@'\n",
    "10.\n",
    "s.rstrip()\n",
    "s.lstrip()\n"
   ]
  }
 ],
 "metadata": {
  "kernelspec": {
   "display_name": "Python 3",
   "language": "python",
   "name": "python3"
  },
  "language_info": {
   "codemirror_mode": {
    "name": "ipython",
    "version": 3
   },
   "file_extension": ".py",
   "mimetype": "text/x-python",
   "name": "python",
   "nbconvert_exporter": "python",
   "pygments_lexer": "ipython3",
   "version": "3.7.4"
  }
 },
 "nbformat": 4,
 "nbformat_minor": 2
}

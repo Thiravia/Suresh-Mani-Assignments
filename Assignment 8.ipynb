{
 "cells": [
  {
   "cell_type": "code",
   "execution_count": null,
   "metadata": {},
   "outputs": [],
   "source": [
    "#Assignment 8\n",
    "\n",
    "1.No PyInputPlus is not a part of standard library we need to include by using pip instal pyinputplus\n",
    "2.we can enter a shorter name for calling a module function\n",
    "3.inputInt() accepts an integer value ,inputFloat() accepts a floating point numerical value\n",
    "4.by using assert to make sure that the input is a whole number\n",
    "5.allowregex to determine what the PyInputPlus function will accept and blockregex to determine what the PyInputPlus function will reject\n",
    "6.It will throw RetryLimitException exception.\n",
    "7.It returns the value N/A"
   ]
  }
 ],
 "metadata": {
  "kernelspec": {
   "display_name": "Python 3",
   "language": "python",
   "name": "python3"
  },
  "language_info": {
   "codemirror_mode": {
    "name": "ipython",
    "version": 3
   },
   "file_extension": ".py",
   "mimetype": "text/x-python",
   "name": "python",
   "nbconvert_exporter": "python",
   "pygments_lexer": "ipython3",
   "version": "3.7.4"
  }
 },
 "nbformat": 4,
 "nbformat_minor": 2
}

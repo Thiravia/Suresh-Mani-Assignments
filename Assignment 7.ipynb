{
 "cells": [
  {
   "cell_type": "code",
   "execution_count": null,
   "metadata": {},
   "outputs": [],
   "source": [
    "#Assignment 7\n",
    "\n",
    "1. the re.compile()\n",
    "2. so that backslashes do not have escaped\n",
    "3. search() method returns -1 if no match is found or returns match objects if it found\n",
    "4. The group() method returns strings of the matched text.\n",
    "5. Group 0 is the entire match, group 1 covers the first set of parentheses, and group 2 covers the second set of parentheses\n",
    "6. r'.()'\n",
    "7. If the regex has no groups, a list of strings is returned. If the regex has groups, a list of tuples of strings is returned.\n",
    "8.The | character is called a pipe. You can use it anywhere you want to match one of many expressions\n",
    "9.\n",
    "10. both are quantifiers, (*)-quantifier preceding expression can match zero or more times it is like,(+)-quantifier preceding expression must match atleast one time or many times\n",
    "11.{4} is saying \"match this pattern four times.\" {4,5} means \"match this pattern four to five times.\"\n",
    "12. match a single character that is not a digit, word, or space character\n",
    "13. match a single character that is not a digit, word, or space character\n",
    "14.\n",
    "(.*?) matches any character (.) any number of times (*), as few times as possible to make the regex match (?).\n",
    "(.*)? captures a group zero or one times (?)\n",
    "15. []\n",
    "16. there are two ways to make regex class insensitive ,using CASE_INSENSITIVE flag and using modifier\n",
    "17. it normally matches any character except the newline character. If re. DOTALL is passed as the second argument to re. compile(), then the dot will also match newline characters.\n",
    "18\n",
    "19.To ignore whitespace and comments inside the regular expression string.\n",
    "20.numCommas = re.compile(r'(^\\d{1,3})(,\\d{3})*$') numCommas.search('12,34,567').group(\n",
    "21.fullName = re.compile(r'[A-Z]\\w [A-Z]\\w') mo = fullName.findall('Satoshi Nakamoto, satoshi Nakamoto, Alice Nakamoto, Nakamoto, Satoshi nakamoto, Robocop Nakamoto') mo.group()\n",
    "22. [('Alice', 'eats', 'apples'), ('Bob', 'pets', 'cats'), ('Carol', 'throws', 'baseballs'), ('Alice', 'throws', 'Apples'), ('BOB', 'EATS', 'CATS')]"
   ]
  }
 ],
 "metadata": {
  "kernelspec": {
   "display_name": "Python 3",
   "language": "python",
   "name": "python3"
  },
  "language_info": {
   "codemirror_mode": {
    "name": "ipython",
    "version": 3
   },
   "file_extension": ".py",
   "mimetype": "text/x-python",
   "name": "python",
   "nbconvert_exporter": "python",
   "pygments_lexer": "ipython3",
   "version": "3.7.4"
  }
 },
 "nbformat": 4,
 "nbformat_minor": 2
}

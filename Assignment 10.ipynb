{
 "cells": [
  {
   "cell_type": "code",
   "execution_count": null,
   "metadata": {},
   "outputs": [],
   "source": [
    "#Assignment 10\n",
    "\n",
    "1.shutil. copy() will copy a single file, shutil. copytree() will copy an entire folder and every folder and file contained in it.\n",
    "2.rename()\n",
    "3.The send2trash functions will move a file or folder to the recycle bin, while shutil functions will permanently delete files and folders\n",
    "4.openread(string)method"
   ]
  }
 ],
 "metadata": {
  "kernelspec": {
   "display_name": "Python 3",
   "language": "python",
   "name": "python3"
  },
  "language_info": {
   "codemirror_mode": {
    "name": "ipython",
    "version": 3
   },
   "file_extension": ".py",
   "mimetype": "text/x-python",
   "name": "python",
   "nbconvert_exporter": "python",
   "pygments_lexer": "ipython3",
   "version": "3.7.4"
  }
 },
 "nbformat": 4,
 "nbformat_minor": 2
}

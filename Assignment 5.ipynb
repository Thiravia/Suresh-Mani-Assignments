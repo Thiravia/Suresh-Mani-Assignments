{
 "cells": [
  {
   "cell_type": "code",
   "execution_count": null,
   "metadata": {},
   "outputs": [],
   "source": [
    "#Assignment 5\n",
    "\n",
    "1. d= {}\n",
    "2. 42\n",
    "3. list is a collection of various index values and the dictionary is a collection of keys and values\n",
    "4. KeyError\n",
    "5. spam.keys() will shows dict_keys(['cat']) if cat is assigned in keys\n",
    "6. spam.values() will shows dict_values(['cat']) if cat is assigned in values\n",
    "7.\n",
    "spam ={'cat':100}\n",
    "spam.setdefault('color','black')\n",
    "8.\n",
    "import pprint\n",
    "dict = [ {'Name': 'suresh', 'Age': '26', 'Country': 'India'},\n",
    "  {'Name': 'sive', 'Age': '21', 'Country': 'india'},\n",
    "  {'Name': 'jack', 'Age': '29', 'Country': 'japan'},\n",
    "  {'Name': 'mani', 'Age': '35', 'Country': 'USA'}\n",
    "]"
   ]
  }
 ],
 "metadata": {
  "kernelspec": {
   "display_name": "Python 3",
   "language": "python",
   "name": "python3"
  },
  "language_info": {
   "codemirror_mode": {
    "name": "ipython",
    "version": 3
   },
   "file_extension": ".py",
   "mimetype": "text/x-python",
   "name": "python",
   "nbconvert_exporter": "python",
   "pygments_lexer": "ipython3",
   "version": "3.7.4"
  }
 },
 "nbformat": 4,
 "nbformat_minor": 2
}
